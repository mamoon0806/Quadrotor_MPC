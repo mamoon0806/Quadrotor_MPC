{
 "cells": [
  {
   "cell_type": "markdown",
   "source": "# Drone Model-Predictive Control",
   "metadata": {
    "cell_id": "87a6ef6742de4cdc8892214de3df7632",
    "tags": [],
    "is_collapsed": false,
    "deepnote_cell_type": "text-cell-h1"
   }
  },
  {
   "cell_type": "markdown",
   "source": "",
   "metadata": {
    "cell_id": "f9118382f213408f995337b8e87aed2c",
    "tags": [],
    "is_collapsed": false,
    "deepnote_cell_type": "text-cell-p"
   }
  },
  {
   "cell_type": "markdown",
   "source": "## Package Imports",
   "metadata": {
    "cell_id": "c645ebd1e19a47f29f04dc9b8f5f9cb6",
    "tags": [],
    "is_collapsed": false,
    "deepnote_cell_type": "text-cell-h2"
   }
  },
  {
   "cell_type": "code",
   "metadata": {
    "tags": [],
    "cell_id": "2aa3aa8b-e6f8-4985-89e0-ad83627b83c3",
    "deepnote_to_be_reexecuted": false,
    "source_hash": "da6bc8fc",
    "execution_start": 1649532220428,
    "execution_millis": 1000,
    "deepnote_cell_type": "code",
    "deepnote_cell_height": 297.15625
   },
   "source": "import matplotlib.pyplot as plt\nimport numpy as np\n\nfrom pydrake.all import (\n    AddMultibodyPlantSceneGraph, DiagramBuilder,DirectCollocation, FindResourceOrThrow, \n    MathematicalProgram, MeshcatVisualizerCpp, Parser, plot_system_graphviz, PiecewisePolynomial,   \n     SceneGraph, Simulator, Solve, StartMeshcat, TrajectorySource, VectorSystem )\n\nfrom pydrake.examples.quadrotor import (QuadrotorGeometry, QuadrotorPlant, StabilizingLQRController)\n\nfrom underactuated.meshcat_cpp_utils import MeshcatSliders\n\n",
   "execution_count": 1,
   "outputs": []
  },
  {
   "cell_type": "code",
   "metadata": {
    "cell_id": "e7de494465554da888685b84a0dbb8c9",
    "tags": [],
    "deepnote_to_be_reexecuted": false,
    "source_hash": "a20aae47",
    "execution_start": 1649532221438,
    "execution_millis": 11,
    "deepnote_cell_type": "code",
    "deepnote_cell_height": 186.15625,
    "deepnote_output_heights": [
     null,
     21.171875
    ]
   },
   "source": "# Start the visualizer (run this cell only once, each instance consumes a port)\nmeshcat = StartMeshcat()",
   "execution_count": 2,
   "outputs": [
    {
     "name": "stderr",
     "text": "INFO:drake:Meshcat listening for connections at https://7a2da9b8-cd38-4703-b181-4b0e0b197067.deepnoteproject.com/7000/\n",
     "output_type": "stream"
    },
    {
     "data": {
      "text/plain": "<IPython.core.display.HTML object>",
      "text/html": "Meshcat URL: <a href='https://7a2da9b8-cd38-4703-b181-4b0e0b197067.deepnoteproject.com/7000/' target='_blank'>https://7a2da9b8-cd38-4703-b181-4b0e0b197067.deepnoteproject.com/7000/</a>"
     },
     "metadata": {},
     "output_type": "display_data"
    }
   ]
  },
  {
   "cell_type": "markdown",
   "source": "## Trajectory Optimization for the Quadrotor",
   "metadata": {
    "cell_id": "2805161585144990b8bc28351808b808",
    "tags": [],
    "is_collapsed": false,
    "deepnote_cell_type": "text-cell-h2"
   }
  },
  {
   "cell_type": "markdown",
   "source": "Find an optimal trajectory from an initial condition to a target destination, that minimizes time to target destination, and adheres to thrust limits",
   "metadata": {
    "cell_id": "4e6db7fc8ab54ffca7f82012f1b61c0c",
    "tags": [],
    "is_collapsed": false,
    "deepnote_cell_type": "text-cell-p"
   }
  },
  {
   "cell_type": "code",
   "metadata": {
    "cell_id": "e7f304b9f1d94d7f8c46a2e5f38769fb",
    "tags": [],
    "deepnote_to_be_reexecuted": false,
    "source_hash": "384b4e9a",
    "execution_start": 1649532269996,
    "execution_millis": 14860,
    "owner_user_id": "9c05fe2d-544b-4349-92ad-31864f746f08",
    "deepnote_cell_type": "code",
    "deepnote_cell_height": 2296.15625,
    "deepnote_output_heights": [
     328.109375,
     328.109375
    ]
   },
   "source": "def optimize_quadrotor_trajectory(quadrotor_plant, quadrotor_context, init_state, final_state, thrust_limit, num_time_samples):\n\n    # use direct collocation to integrate quadrotor dynamics\n    # DirectCollation classe performs Direct transcription trajectory optimization using nonlinear programming and collocation\n    # It assumes a first-order hold on the input trajectory and a cubic spline representation of the state trajectory, and adds dynamic constraints \n    # (and running costs) to the midpoints as well as the breakpoints in order to achieve a 3rd order integration accuracy.\n    dircol = DirectCollocation(quadrotor_plant,\n                            quadrotor_context,\n                            num_time_samples=num_time_samples,\n                            minimum_timestep=0.05,\n                            maximum_timestep=0.2)\n\n    #Returns a reference to the MathematicalProgram associated with the trajectory optimization problem.\n    prog = dircol.prog()\n\n    # add constraint that enforces that all timesteps have equal duration (ensures more efficient optimization)\n    dircol.AddEqualTimeIntervalsConstraints()\n\n    # Returns placeholder decision variables (not actually declared as decision variables in the MathematicalProgram) \n    # associated with the input, u, but with the time-index undetermined.\n    u = dircol.input()\n\n    print(f\"input = {u}\")\n\n    # enforce individual thrust limits for each propellor\n    dircol.AddConstraintToAllKnotPoints(u[0] <= thrust_limit)\n    dircol.AddConstraintToAllKnotPoints(-thrust_limit <= u[0])\n\n    dircol.AddConstraintToAllKnotPoints(u[1] <= thrust_limit)\n    dircol.AddConstraintToAllKnotPoints(-thrust_limit <= u[1])\n\n    dircol.AddConstraintToAllKnotPoints(u[2] <= thrust_limit)\n    dircol.AddConstraintToAllKnotPoints(-thrust_limit <= u[2])\n\n    dircol.AddConstraintToAllKnotPoints(u[3] <= thrust_limit)\n    dircol.AddConstraintToAllKnotPoints(-thrust_limit <= u[3])\n\n    # add initial state constraint (first parameter is upper bound, second parameter is lower bound, 3rd parameter is variable being constrained)\n    prog.AddBoundingBoxConstraint(init_state, init_state,\n                                  dircol.initial_state())\n\n    # add final state constraint\n    prog.AddBoundingBoxConstraint(final_state, final_state,\n                                  dircol.final_state())\n\n\n    R = 100  # Cost on input \"effort\".\n    dircol.AddRunningCost(R * u[0]**2)\n    dircol.AddRunningCost(R * u[1]**2)\n    dircol.AddRunningCost(R * u[2]**2)\n    dircol.AddRunningCost(R * u[3]**2)\n\n    # Add a final cost equal to the total duration.\n    dircol.AddFinalCost(dircol.time())\n\n    # Construct an initial guess at an optimal trajectory\n    # PiecewisePolynomial.FirstOrderHold Constructs a piecewise linear PiecewisePolynomial using matrix samples.\n    breaks = [0., 4.]\n    samples = np.column_stack((initial_state, final_state))\n    initial_x_trajectory = PiecewisePolynomial.FirstOrderHold(breaks, samples)  # yapf: disable\n\n    dircol.SetInitialTrajectory(PiecewisePolynomial(), initial_x_trajectory)\n\n    result = Solve(prog)\n    assert (result.is_success())\n\n    u_trajectory = dircol.ReconstructInputTrajectory(result)\n    x_trajectory = dircol.ReconstructStateTrajectory(result)\n\n    return u_trajectory, x_trajectory\n\n\n#calculate optimal trajectory and simulation\n\ninitial_state = [0, 0, 0, 0, 0, 0, 0, 0, 0, 0, 0, 0]\n\nfinal_state = [-1, -3, 1, 0, 0, 0, 0, 0, 0, 0, 0, 0]\n# limit is the 2-norm of the thrust vector \nthrust_limit = 20.0\n#we want to have an odd number\nnum_time_samples = 21\n\nquadrotor_plant = QuadrotorPlant()\nquadrotor_context = quadrotor_plant.CreateDefaultContext()\n\nu_trajectory, x_trajectory = optimize_quadrotor_trajectory(quadrotor_plant, quadrotor_context, initial_state, final_state, thrust_limit, num_time_samples)\n\nbuilder = DiagramBuilder()\nsource = builder.AddSystem(TrajectorySource(x_trajectory))\n\n# Set up visualization in MeshCat\nscene_graph = builder.AddSystem(SceneGraph())\nQuadrotorGeometry.AddToBuilder(builder, source.get_output_port(0), scene_graph)\nmeshcat.Delete()\nmeshcat.ResetRenderMode()\nmeshcat.SetProperty('/Background','visible',False)\nMeshcatVisualizerCpp.AddToBuilder(builder, scene_graph, meshcat)\n# end setup for visualization\n\ndiagram = builder.Build()\n\n# Set up a simulator to run this diagram\nsimulator = Simulator(diagram)\nsim_context = simulator.get_mutable_context()\n\n#sim_context.SetContinuousState(initial_state)\n\nsimulator.set_target_realtime_rate(1.0)\nmeshcat.AddButton('Stop Simulation')\nwhile meshcat.GetButtonClicks('Stop Simulation') < 1:\n    \n    simulator.AdvanceTo(simulator.get_context().get_time() + 1.0)\n\nmeshcat.DeleteAddedControls()\n\n    \n",
   "execution_count": 5,
   "outputs": [
    {
     "name": "stdout",
     "text": "input = [Variable('u(0)', Continuous) Variable('u(1)', Continuous)\n Variable('u(2)', Continuous) Variable('u(3)', Continuous)]\n",
     "output_type": "stream"
    }
   ]
  },
  {
   "cell_type": "markdown",
   "source": "## Wire Up Block Diagram &amp; Run simulation",
   "metadata": {
    "cell_id": "df92e83d111243c8b6cb655611780be4",
    "tags": [],
    "is_collapsed": false,
    "deepnote_cell_type": "text-cell-h2"
   }
  },
  {
   "cell_type": "code",
   "metadata": {
    "cell_id": "b3eea1384aa648bfb395170d7914e7a5",
    "tags": [],
    "deepnote_to_be_reexecuted": true,
    "source_hash": "a4ec164b",
    "execution_start": 1649527308857,
    "execution_millis": 5006,
    "deepnote_cell_type": "code",
    "deepnote_cell_height": 1367.4375,
    "deepnote_output_heights": [
     290,
     40,
     40.34375
    ]
   },
   "source": "def simulate_quadrotor():\n\n    #define diagram builder, used to connect plant and controller inputs / outputs\n    builder = DiagramBuilder()\n\n\n    quadrotor_plant = QuadrotorPlant()\n\n    plant = builder.AddSystem(quadrotor_plant)\n\n    controller = builder.AddSystem(StabilizingLQRController(plant, [1, 2, 2]))\n    builder.Connect(controller.get_output_port(0), plant.get_input_port(0))\n    builder.Connect(plant.get_output_port(0), controller.get_input_port(0))\n\n    # Set up visualization in MeshCat\n    scene_graph = builder.AddSystem(SceneGraph())\n    QuadrotorGeometry.AddToBuilder(builder, plant.get_output_port(0), scene_graph)\n    meshcat.Delete()\n    meshcat.ResetRenderMode()\n    meshcat.SetProperty('/Background','visible',False)\n    MeshcatVisualizerCpp.AddToBuilder(builder, scene_graph, meshcat)\n    # end setup for visualization\n\n\n\n    diagram = builder.Build()\n\n    # Set up a simulator to run this diagram\n    simulator = Simulator(diagram)\n    context = simulator.get_mutable_context()\n\n\n\n    #continuous_state = context.get_mutable_continuous_state_vector()\n\n    # Set the initial conditions (theta1, theta2, theta1dot, theta2dot)\n    #context.SetContinuousState([0, 0, 0, 0, 0, 0, 0, 0, 0, 0, 0, 0])\n    context.SetContinuousState(0.5*np.random.randn(12,))\n\n   # print(f\"continuous state {continuous_state}\")\n    #print(f\"size of continuous state {continuous_state.size()}\")\n    simulator.set_target_realtime_rate(1.0)\n    meshcat.AddButton('Stop Simulation')\n    while meshcat.GetButtonClicks('Stop Simulation') < 1:\n        \n        simulator.AdvanceTo(simulator.get_context().get_time() + 1.0)\n\n    meshcat.DeleteAddedControls()\n\n    print(\"simulation complete\")\n\n#simulate_quadrotor()",
   "outputs": [
    {
     "output_type": "error",
     "ename": "KeyboardInterrupt",
     "evalue": "",
     "traceback": [
      "\u001b[0;31m---------------------------------------------------------------------------\u001b[0m",
      "\u001b[0;31mKeyboardInterrupt\u001b[0m                         Traceback (most recent call last)",
      "\u001b[0;32m<ipython-input-4-fe335851a527>\u001b[0m in \u001b[0;36m<cell line: 52>\u001b[0;34m()\u001b[0m\n\u001b[1;32m     50\u001b[0m     \u001b[0mprint\u001b[0m\u001b[0;34m(\u001b[0m\u001b[0;34m\"simulation complete\"\u001b[0m\u001b[0;34m)\u001b[0m\u001b[0;34m\u001b[0m\u001b[0;34m\u001b[0m\u001b[0m\n\u001b[1;32m     51\u001b[0m \u001b[0;34m\u001b[0m\u001b[0m\n\u001b[0;32m---> 52\u001b[0;31m \u001b[0msimulate_quadrotor\u001b[0m\u001b[0;34m(\u001b[0m\u001b[0;34m)\u001b[0m\u001b[0;34m\u001b[0m\u001b[0;34m\u001b[0m\u001b[0m\n\u001b[0m",
      "\u001b[0;32m<ipython-input-4-fe335851a527>\u001b[0m in \u001b[0;36msimulate_quadrotor\u001b[0;34m()\u001b[0m\n\u001b[1;32m     44\u001b[0m     \u001b[0;32mwhile\u001b[0m \u001b[0mmeshcat\u001b[0m\u001b[0;34m.\u001b[0m\u001b[0mGetButtonClicks\u001b[0m\u001b[0;34m(\u001b[0m\u001b[0;34m'Stop Simulation'\u001b[0m\u001b[0;34m)\u001b[0m \u001b[0;34m<\u001b[0m \u001b[0;36m1\u001b[0m\u001b[0;34m:\u001b[0m\u001b[0;34m\u001b[0m\u001b[0;34m\u001b[0m\u001b[0m\n\u001b[1;32m     45\u001b[0m \u001b[0;34m\u001b[0m\u001b[0m\n\u001b[0;32m---> 46\u001b[0;31m         \u001b[0msimulator\u001b[0m\u001b[0;34m.\u001b[0m\u001b[0mAdvanceTo\u001b[0m\u001b[0;34m(\u001b[0m\u001b[0msimulator\u001b[0m\u001b[0;34m.\u001b[0m\u001b[0mget_context\u001b[0m\u001b[0;34m(\u001b[0m\u001b[0;34m)\u001b[0m\u001b[0;34m.\u001b[0m\u001b[0mget_time\u001b[0m\u001b[0;34m(\u001b[0m\u001b[0;34m)\u001b[0m \u001b[0;34m+\u001b[0m \u001b[0;36m1.0\u001b[0m\u001b[0;34m)\u001b[0m\u001b[0;34m\u001b[0m\u001b[0;34m\u001b[0m\u001b[0m\n\u001b[0m\u001b[1;32m     47\u001b[0m \u001b[0;34m\u001b[0m\u001b[0m\n\u001b[1;32m     48\u001b[0m     \u001b[0mmeshcat\u001b[0m\u001b[0;34m.\u001b[0m\u001b[0mDeleteAddedControls\u001b[0m\u001b[0;34m(\u001b[0m\u001b[0;34m)\u001b[0m\u001b[0;34m\u001b[0m\u001b[0;34m\u001b[0m\u001b[0m\n",
      "\u001b[0;31mKeyboardInterrupt\u001b[0m: "
     ]
    }
   ],
   "execution_count": null
  },
  {
   "cell_type": "code",
   "metadata": {
    "cell_id": "b93b1851f90a4e7991b837f2680037b4",
    "tags": [],
    "deepnote_to_be_reexecuted": true,
    "source_hash": "b623e53d",
    "execution_start": 1649441285841,
    "execution_millis": 1,
    "deepnote_cell_type": "code",
    "deepnote_cell_height": 81.15625
   },
   "source": "",
   "execution_count": null,
   "outputs": []
  },
  {
   "cell_type": "markdown",
   "source": "<a style='text-decoration:none;line-height:16px;display:flex;color:#5B5B62;padding:10px;justify-content:end;' href='https://deepnote.com?utm_source=created-in-deepnote-cell&projectId=7a2da9b8-cd38-4703-b181-4b0e0b197067' target=\"_blank\">\n<img alt='Created in deepnote.com' style='display:inline;max-height:16px;margin:0px;margin-right:7.5px;' src='data:image/svg+xml;base64,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' > </img>\nCreated in <span style='font-weight:600;margin-left:4px;'>Deepnote</span></a>",
   "metadata": {
    "tags": [],
    "created_in_deepnote_cell": true,
    "deepnote_cell_type": "markdown"
   }
  }
 ],
 "nbformat": 4,
 "nbformat_minor": 2,
 "metadata": {
  "orig_nbformat": 2,
  "deepnote": {
   "is_reactive": false
  },
  "deepnote_notebook_id": "084354c2-8ff1-47ae-9458-91c5ad9696d8",
  "deepnote_execution_queue": [
   {
    "cellId": "e7f304b9f1d94d7f8c46a2e5f38769fb",
    "sessionId": "713472d8-0fdf-4aaa-afc6-0069086f4ce1",
    "msgId": "fd026e56-d6c8-4980-af22-c8b4ef0246e9"
   }
  ]
 }
}